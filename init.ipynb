{
 "metadata": {
  "language_info": {
   "codemirror_mode": {
    "name": "ipython",
    "version": 3
   },
   "file_extension": ".py",
   "mimetype": "text/x-python",
   "name": "python",
   "nbconvert_exporter": "python",
   "pygments_lexer": "ipython3",
   "version": "3.8.6"
  },
  "orig_nbformat": 2,
  "kernelspec": {
   "name": "python386jvsc74a57bd031f2aee4e71d21fbe5cf8b01ff0e069b9275f58929596ceb00d14d90e3e16cd6",
   "display_name": "Python 3.8.6 64-bit"
  },
  "metadata": {
   "interpreter": {
    "hash": "31f2aee4e71d21fbe5cf8b01ff0e069b9275f58929596ceb00d14d90e3e16cd6"
   }
  }
 },
 "nbformat": 4,
 "nbformat_minor": 2,
 "cells": [
  {
   "cell_type": "code",
   "execution_count": 2,
   "metadata": {},
   "outputs": [],
   "source": [
    "# Importando libs\n",
    "import pandas as pd"
   ]
  },
  {
   "cell_type": "code",
   "execution_count": 3,
   "metadata": {},
   "outputs": [],
   "source": [
    "# Criando daframe a partir do arquivo 'data/data.csv'\n",
    "df = pd.read_csv('data/data.csv')"
   ]
  },
  {
   "cell_type": "code",
   "execution_count": 4,
   "metadata": {},
   "outputs": [
    {
     "output_type": "stream",
     "name": "stdout",
     "text": [
      "<class 'pandas.core.frame.DataFrame'>\nRangeIndex: 9942 entries, 0 to 9941\nData columns (total 9 columns):\n #   Column      Non-Null Count  Dtype \n---  ------      --------------  ----- \n 0   Unnamed: 0  9942 non-null   int64 \n 1   data        9941 non-null   object\n 2   hora        9692 non-null   object\n 3   sexo        9940 non-null   object\n 4   idade       9940 non-null   object\n 5   funcao      9940 non-null   object\n 6   categoria   9940 non-null   object\n 7   compra      5266 non-null   object\n 8   valor       5224 non-null   object\ndtypes: int64(1), object(8)\nmemory usage: 699.2+ KB\n"
     ]
    }
   ],
   "source": [
    "# Exibindo informações do daframe\n",
    "df.info()\n"
   ]
  },
  {
   "cell_type": "code",
   "execution_count": 5,
   "metadata": {},
   "outputs": [
    {
     "output_type": "execute_result",
     "data": {
      "text/plain": [
       "   Unnamed: 0        data hora sexo idade funcao categoria compra valor\n",
       "0           0  2014-03-25  NaN    m     c      b         a    NaN   NaN\n",
       "1           1  2014-03-25  NaN    f     b      a         a      s   NaN\n",
       "2           2  2014-03-25  NaN    m     c      b         d    NaN   NaN\n",
       "3           3  2014-03-25  NaN    m     c      b         d      s   NaN\n",
       "4           4  2014-03-25  NaN    m     c      d         d      s   NaN"
      ],
      "text/html": "<div>\n<style scoped>\n    .dataframe tbody tr th:only-of-type {\n        vertical-align: middle;\n    }\n\n    .dataframe tbody tr th {\n        vertical-align: top;\n    }\n\n    .dataframe thead th {\n        text-align: right;\n    }\n</style>\n<table border=\"1\" class=\"dataframe\">\n  <thead>\n    <tr style=\"text-align: right;\">\n      <th></th>\n      <th>Unnamed: 0</th>\n      <th>data</th>\n      <th>hora</th>\n      <th>sexo</th>\n      <th>idade</th>\n      <th>funcao</th>\n      <th>categoria</th>\n      <th>compra</th>\n      <th>valor</th>\n    </tr>\n  </thead>\n  <tbody>\n    <tr>\n      <th>0</th>\n      <td>0</td>\n      <td>2014-03-25</td>\n      <td>NaN</td>\n      <td>m</td>\n      <td>c</td>\n      <td>b</td>\n      <td>a</td>\n      <td>NaN</td>\n      <td>NaN</td>\n    </tr>\n    <tr>\n      <th>1</th>\n      <td>1</td>\n      <td>2014-03-25</td>\n      <td>NaN</td>\n      <td>f</td>\n      <td>b</td>\n      <td>a</td>\n      <td>a</td>\n      <td>s</td>\n      <td>NaN</td>\n    </tr>\n    <tr>\n      <th>2</th>\n      <td>2</td>\n      <td>2014-03-25</td>\n      <td>NaN</td>\n      <td>m</td>\n      <td>c</td>\n      <td>b</td>\n      <td>d</td>\n      <td>NaN</td>\n      <td>NaN</td>\n    </tr>\n    <tr>\n      <th>3</th>\n      <td>3</td>\n      <td>2014-03-25</td>\n      <td>NaN</td>\n      <td>m</td>\n      <td>c</td>\n      <td>b</td>\n      <td>d</td>\n      <td>s</td>\n      <td>NaN</td>\n    </tr>\n    <tr>\n      <th>4</th>\n      <td>4</td>\n      <td>2014-03-25</td>\n      <td>NaN</td>\n      <td>m</td>\n      <td>c</td>\n      <td>d</td>\n      <td>d</td>\n      <td>s</td>\n      <td>NaN</td>\n    </tr>\n  </tbody>\n</table>\n</div>"
     },
     "metadata": {},
     "execution_count": 5
    }
   ],
   "source": [
    "# Exibindo as 5 primeiras linhas do dataframe\n",
    "df.head()"
   ]
  },
  {
   "cell_type": "code",
   "execution_count": 6,
   "metadata": {},
   "outputs": [],
   "source": [
    "# Removendo a coluna com indice 0, essa coluna é o id (primary key) oriundo da tabela na base de dados\n",
    "df = df.drop(df.columns[[0]], axis=1)"
   ]
  },
  {
   "cell_type": "code",
   "execution_count": 7,
   "metadata": {},
   "outputs": [
    {
     "output_type": "execute_result",
     "data": {
      "text/plain": [
       "         data hora sexo idade funcao categoria compra valor\n",
       "0  2014-03-25  NaN    m     c      b         a    NaN   NaN\n",
       "1  2014-03-25  NaN    f     b      a         a      s   NaN\n",
       "2  2014-03-25  NaN    m     c      b         d    NaN   NaN\n",
       "3  2014-03-25  NaN    m     c      b         d      s   NaN\n",
       "4  2014-03-25  NaN    m     c      d         d      s   NaN"
      ],
      "text/html": "<div>\n<style scoped>\n    .dataframe tbody tr th:only-of-type {\n        vertical-align: middle;\n    }\n\n    .dataframe tbody tr th {\n        vertical-align: top;\n    }\n\n    .dataframe thead th {\n        text-align: right;\n    }\n</style>\n<table border=\"1\" class=\"dataframe\">\n  <thead>\n    <tr style=\"text-align: right;\">\n      <th></th>\n      <th>data</th>\n      <th>hora</th>\n      <th>sexo</th>\n      <th>idade</th>\n      <th>funcao</th>\n      <th>categoria</th>\n      <th>compra</th>\n      <th>valor</th>\n    </tr>\n  </thead>\n  <tbody>\n    <tr>\n      <th>0</th>\n      <td>2014-03-25</td>\n      <td>NaN</td>\n      <td>m</td>\n      <td>c</td>\n      <td>b</td>\n      <td>a</td>\n      <td>NaN</td>\n      <td>NaN</td>\n    </tr>\n    <tr>\n      <th>1</th>\n      <td>2014-03-25</td>\n      <td>NaN</td>\n      <td>f</td>\n      <td>b</td>\n      <td>a</td>\n      <td>a</td>\n      <td>s</td>\n      <td>NaN</td>\n    </tr>\n    <tr>\n      <th>2</th>\n      <td>2014-03-25</td>\n      <td>NaN</td>\n      <td>m</td>\n      <td>c</td>\n      <td>b</td>\n      <td>d</td>\n      <td>NaN</td>\n      <td>NaN</td>\n    </tr>\n    <tr>\n      <th>3</th>\n      <td>2014-03-25</td>\n      <td>NaN</td>\n      <td>m</td>\n      <td>c</td>\n      <td>b</td>\n      <td>d</td>\n      <td>s</td>\n      <td>NaN</td>\n    </tr>\n    <tr>\n      <th>4</th>\n      <td>2014-03-25</td>\n      <td>NaN</td>\n      <td>m</td>\n      <td>c</td>\n      <td>d</td>\n      <td>d</td>\n      <td>s</td>\n      <td>NaN</td>\n    </tr>\n  </tbody>\n</table>\n</div>"
     },
     "metadata": {},
     "execution_count": 7
    }
   ],
   "source": [
    "# Exibindo novamente as 5 primeiras linhas do daframe\n",
    "df.head()"
   ]
  },
  {
   "cell_type": "code",
   "execution_count": 8,
   "metadata": {},
   "outputs": [
    {
     "output_type": "stream",
     "name": "stdout",
     "text": [
      "<class 'pandas.core.frame.DataFrame'>\nRangeIndex: 9942 entries, 0 to 9941\nData columns (total 8 columns):\n #   Column     Non-Null Count  Dtype \n---  ------     --------------  ----- \n 0   data       9941 non-null   object\n 1   hora       9692 non-null   object\n 2   sexo       9940 non-null   object\n 3   idade      9940 non-null   object\n 4   funcao     9940 non-null   object\n 5   categoria  9940 non-null   object\n 6   compra     5266 non-null   object\n 7   valor      5224 non-null   object\ndtypes: object(8)\nmemory usage: 621.5+ KB\n"
     ]
    }
   ],
   "source": [
    "# Exibindo informações do dataframe\n",
    "df.info()"
   ]
  },
  {
   "cell_type": "code",
   "execution_count": 9,
   "metadata": {},
   "outputs": [
    {
     "output_type": "execute_result",
     "data": {
      "text/plain": [
       "(9942, 8)"
      ]
     },
     "metadata": {},
     "execution_count": 9
    }
   ],
   "source": [
    "# Exibindo quantidade de linhas e colunas do dafaframe\n",
    "df.shape"
   ]
  },
  {
   "cell_type": "code",
   "execution_count": 10,
   "metadata": {},
   "outputs": [
    {
     "output_type": "execute_result",
     "data": {
      "text/plain": [
       "RangeIndex(start=0, stop=9942, step=1)"
      ]
     },
     "metadata": {},
     "execution_count": 10
    }
   ],
   "source": [
    "# Exibindo descrição do index\n",
    "df.index"
   ]
  },
  {
   "cell_type": "code",
   "execution_count": 11,
   "metadata": {},
   "outputs": [
    {
     "output_type": "execute_result",
     "data": {
      "text/plain": [
       "Index(['data', 'hora', 'sexo', 'idade', 'funcao', 'categoria', 'compra',\n",
       "       'valor'],\n",
       "      dtype='object')"
      ]
     },
     "metadata": {},
     "execution_count": 11
    }
   ],
   "source": [
    "# Exibindo colunas presentes no dataframe\n",
    "df.columns"
   ]
  },
  {
   "cell_type": "code",
   "execution_count": 12,
   "metadata": {},
   "outputs": [
    {
     "output_type": "execute_result",
     "data": {
      "text/plain": [
       "data         9941\n",
       "hora         9692\n",
       "sexo         9940\n",
       "idade        9940\n",
       "funcao       9940\n",
       "categoria    9940\n",
       "compra       5266\n",
       "valor        5224\n",
       "dtype: int64"
      ]
     },
     "metadata": {},
     "execution_count": 12
    }
   ],
   "source": [
    "# Exibindo contagem de dados nao-nulos em cada coluna\n",
    "df.count()"
   ]
  },
  {
   "cell_type": "code",
   "execution_count": 13,
   "metadata": {},
   "outputs": [
    {
     "output_type": "stream",
     "name": "stdout",
     "text": [
      "['data', 'hora', 'sexo', 'idade', 'funcao', 'categoria', 'compra', 'valor']\n"
     ]
    }
   ],
   "source": [
    "# Imprimindo as colunas do dataframe\n",
    "print(list(df.columns.values))"
   ]
  },
  {
   "cell_type": "code",
   "execution_count": 14,
   "metadata": {},
   "outputs": [
    {
     "output_type": "stream",
     "name": "stdout",
     "text": [
      "data         9941\nhora         9692\nsexo         9940\nidade        9940\nfuncao       9940\ncategoria    9940\ncompra       5266\nvalor        5224\ndtype: int64\n"
     ]
    }
   ],
   "source": [
    "# Imprimindo a quantidade de registros do dataframe\n",
    "print(df.count())"
   ]
  },
  {
   "cell_type": "code",
   "execution_count": 15,
   "metadata": {},
   "outputs": [
    {
     "output_type": "stream",
     "name": "stdout",
     "text": [
      "['b' 'a' 'd' 'c' nan]\n"
     ]
    }
   ],
   "source": [
    "# Obtendo valores unicos da coluna funcao\n",
    "print(df['funcao'].unique())"
   ]
  },
  {
   "cell_type": "code",
   "execution_count": 16,
   "metadata": {},
   "outputs": [],
   "source": [
    "# Funcao para tratar a coluna FUNCAO\n",
    "def trata_funcao(s):\n",
    "    if s == 'a':\n",
    "        return 'Aluno'\n",
    "    elif s == 'b':\n",
    "        return 'Funcionario'\n",
    "    elif s == 'c':\n",
    "        return 'Professor'\n",
    "    elif s == 'd':\n",
    "        return 'Outros'"
   ]
  },
  {
   "cell_type": "code",
   "execution_count": 17,
   "metadata": {},
   "outputs": [],
   "source": [
    "# Criando nova coluna FUNCAO_TRATADA com dados tratados\n",
    "df['FUNCAO_TRATADA'] = df['funcao'].apply(trata_funcao)"
   ]
  },
  {
   "cell_type": "code",
   "execution_count": 18,
   "metadata": {},
   "outputs": [
    {
     "output_type": "stream",
     "name": "stdout",
     "text": [
      "['a' 'd' 'b' 'e' 'i' 'g' 'k' 'j' 'c' 'h' 'f' nan]\n"
     ]
    }
   ],
   "source": [
    "# Obtendo valores unicos da coluna 'categoria''\n",
    "print(df['categoria'].unique())"
   ]
  },
  {
   "cell_type": "code",
   "execution_count": 19,
   "metadata": {},
   "outputs": [],
   "source": [
    "# Funcao para tratar a coluna CATEGORIA\n",
    "def trata_categoria(s):\n",
    "    if s == 'a':\n",
    "        return 'Acessorios'\n",
    "    elif s == 'b':\n",
    "        return 'Apple'\n",
    "    elif s == 'c':\n",
    "        return 'Cameras'\n",
    "    elif s == 'd':\n",
    "        return 'Impressoras'\n",
    "    elif s == 'e':\n",
    "        return 'Notebooks'\n",
    "    elif s == 'f':\n",
    "        return 'Softwares'\n",
    "    elif s == 'g':\n",
    "        return 'Telecom'\n",
    "    elif s == 'h':\n",
    "        return 'Tablet'\n",
    "    elif s == 'i':\n",
    "        return 'Games'\n",
    "    elif s == 'j':\n",
    "        return 'Servicos'\n",
    "    elif s == 'k':\n",
    "        return 'Outros'"
   ]
  },
  {
   "cell_type": "code",
   "execution_count": 20,
   "metadata": {},
   "outputs": [],
   "source": [
    "# Criando nova coluna CATEGORIA_TRATADA com dados tratados\n",
    "df['CATEGORIA_TRATADA'] = df['categoria'].apply(trata_categoria)"
   ]
  },
  {
   "cell_type": "code",
   "execution_count": 21,
   "metadata": {},
   "outputs": [
    {
     "output_type": "stream",
     "name": "stdout",
     "text": [
      "[nan 's']\n"
     ]
    }
   ],
   "source": [
    "# Exibindo valores unicos da coluna 'compra'\n",
    "print(df['compra'].unique())"
   ]
  },
  {
   "cell_type": "code",
   "execution_count": 22,
   "metadata": {},
   "outputs": [],
   "source": [
    "# Funcao para tratar a coluna COMPRA\n",
    "def trata_compra(s):\n",
    "    if s == 's':\n",
    "        return 'Sim'\n",
    "    else:\n",
    "        return 'Nao'"
   ]
  },
  {
   "cell_type": "code",
   "execution_count": 23,
   "metadata": {},
   "outputs": [],
   "source": [
    "# Criando nova coluna COMPROU com dados tratados na coluna 'compra'\n",
    "df['COMPROU'] = df['compra'].apply(trata_compra)"
   ]
  },
  {
   "cell_type": "code",
   "execution_count": 24,
   "metadata": {},
   "outputs": [
    {
     "output_type": "stream",
     "name": "stdout",
     "text": [
      "['m' 'f' nan]\n"
     ]
    }
   ],
   "source": [
    "# Exibindo valores unicos da coluna 'sexo'\n",
    "print(df['sexo'].unique())"
   ]
  },
  {
   "cell_type": "code",
   "execution_count": 25,
   "metadata": {},
   "outputs": [],
   "source": [
    "# Funcao para tratar a coluna SEXO\n",
    "def trata_sexo(s):\n",
    "    if s == 'm':\n",
    "        return 'Masculino'\n",
    "    else:\n",
    "        return 'Feminino'"
   ]
  },
  {
   "cell_type": "code",
   "execution_count": 26,
   "metadata": {},
   "outputs": [],
   "source": [
    "# Criando nova coluna SEXO_TRATADO com dados tratados na coluna 'sexo'\n",
    "df['SEXO_TRATADO'] = df['sexo'].apply(trata_sexo)"
   ]
  },
  {
   "cell_type": "code",
   "execution_count": 27,
   "metadata": {},
   "outputs": [
    {
     "output_type": "stream",
     "name": "stdout",
     "text": [
      "['c' 'b' 'd' 'a' nan]\n"
     ]
    }
   ],
   "source": [
    "# Exibindo valores unicos da coluna 'idade'\n",
    "print(df['idade'].unique())"
   ]
  },
  {
   "cell_type": "code",
   "execution_count": 28,
   "metadata": {},
   "outputs": [],
   "source": [
    "# Funcao para tratar a coluna IDADE\n",
    "def trata_idade(s):\n",
    "    if s == 'a':\n",
    "        return 'Menor de 18'\n",
    "    elif s == 'b':\n",
    "        return 'Entre 18 e 30'\n",
    "    elif s == 'c':\n",
    "        return 'Entre 30 e 60'\n",
    "    else:\n",
    "        return 'Maior de 60'"
   ]
  },
  {
   "cell_type": "code",
   "execution_count": 29,
   "metadata": {},
   "outputs": [],
   "source": [
    "# Criando nova coluna IDADE_TRATADA com dados tratados na coluna 'idade'\n",
    "df['IDADE_TRATADA'] = df['idade'].apply(trata_idade)"
   ]
  },
  {
   "cell_type": "code",
   "execution_count": 30,
   "metadata": {},
   "outputs": [
    {
     "output_type": "execute_result",
     "data": {
      "text/plain": [
       "         data hora sexo idade funcao categoria compra valor FUNCAO_TRATADA  \\\n",
       "0  2014-03-25  NaN    m     c      b         a    NaN   NaN    Funcionario   \n",
       "1  2014-03-25  NaN    f     b      a         a      s   NaN          Aluno   \n",
       "2  2014-03-25  NaN    m     c      b         d    NaN   NaN    Funcionario   \n",
       "3  2014-03-25  NaN    m     c      b         d      s   NaN    Funcionario   \n",
       "4  2014-03-25  NaN    m     c      d         d      s   NaN         Outros   \n",
       "\n",
       "  CATEGORIA_TRATADA COMPROU SEXO_TRATADO  IDADE_TRATADA  \n",
       "0        Acessorios     Nao    Masculino  Entre 30 e 60  \n",
       "1        Acessorios     Sim     Feminino  Entre 18 e 30  \n",
       "2       Impressoras     Nao    Masculino  Entre 30 e 60  \n",
       "3       Impressoras     Sim    Masculino  Entre 30 e 60  \n",
       "4       Impressoras     Sim    Masculino  Entre 30 e 60  "
      ],
      "text/html": "<div>\n<style scoped>\n    .dataframe tbody tr th:only-of-type {\n        vertical-align: middle;\n    }\n\n    .dataframe tbody tr th {\n        vertical-align: top;\n    }\n\n    .dataframe thead th {\n        text-align: right;\n    }\n</style>\n<table border=\"1\" class=\"dataframe\">\n  <thead>\n    <tr style=\"text-align: right;\">\n      <th></th>\n      <th>data</th>\n      <th>hora</th>\n      <th>sexo</th>\n      <th>idade</th>\n      <th>funcao</th>\n      <th>categoria</th>\n      <th>compra</th>\n      <th>valor</th>\n      <th>FUNCAO_TRATADA</th>\n      <th>CATEGORIA_TRATADA</th>\n      <th>COMPROU</th>\n      <th>SEXO_TRATADO</th>\n      <th>IDADE_TRATADA</th>\n    </tr>\n  </thead>\n  <tbody>\n    <tr>\n      <th>0</th>\n      <td>2014-03-25</td>\n      <td>NaN</td>\n      <td>m</td>\n      <td>c</td>\n      <td>b</td>\n      <td>a</td>\n      <td>NaN</td>\n      <td>NaN</td>\n      <td>Funcionario</td>\n      <td>Acessorios</td>\n      <td>Nao</td>\n      <td>Masculino</td>\n      <td>Entre 30 e 60</td>\n    </tr>\n    <tr>\n      <th>1</th>\n      <td>2014-03-25</td>\n      <td>NaN</td>\n      <td>f</td>\n      <td>b</td>\n      <td>a</td>\n      <td>a</td>\n      <td>s</td>\n      <td>NaN</td>\n      <td>Aluno</td>\n      <td>Acessorios</td>\n      <td>Sim</td>\n      <td>Feminino</td>\n      <td>Entre 18 e 30</td>\n    </tr>\n    <tr>\n      <th>2</th>\n      <td>2014-03-25</td>\n      <td>NaN</td>\n      <td>m</td>\n      <td>c</td>\n      <td>b</td>\n      <td>d</td>\n      <td>NaN</td>\n      <td>NaN</td>\n      <td>Funcionario</td>\n      <td>Impressoras</td>\n      <td>Nao</td>\n      <td>Masculino</td>\n      <td>Entre 30 e 60</td>\n    </tr>\n    <tr>\n      <th>3</th>\n      <td>2014-03-25</td>\n      <td>NaN</td>\n      <td>m</td>\n      <td>c</td>\n      <td>b</td>\n      <td>d</td>\n      <td>s</td>\n      <td>NaN</td>\n      <td>Funcionario</td>\n      <td>Impressoras</td>\n      <td>Sim</td>\n      <td>Masculino</td>\n      <td>Entre 30 e 60</td>\n    </tr>\n    <tr>\n      <th>4</th>\n      <td>2014-03-25</td>\n      <td>NaN</td>\n      <td>m</td>\n      <td>c</td>\n      <td>d</td>\n      <td>d</td>\n      <td>s</td>\n      <td>NaN</td>\n      <td>Outros</td>\n      <td>Impressoras</td>\n      <td>Sim</td>\n      <td>Masculino</td>\n      <td>Entre 30 e 60</td>\n    </tr>\n  </tbody>\n</table>\n</div>"
     },
     "metadata": {},
     "execution_count": 30
    }
   ],
   "source": [
    "# Exibindo as 5 primeiras linhas do daframe\n",
    "df.head()"
   ]
  },
  {
   "cell_type": "code",
   "execution_count": 31,
   "metadata": {},
   "outputs": [],
   "source": [
    "# Removendo colunas que não sera utilizadas\n",
    "df.drop(['sexo', 'idade','funcao','categoria','compra'], axis=1, inplace=True)"
   ]
  },
  {
   "cell_type": "code",
   "execution_count": 32,
   "metadata": {},
   "outputs": [
    {
     "output_type": "execute_result",
     "data": {
      "text/plain": [
       "            data   hora     valor       funcao    categoria comprou  \\\n",
       "0     2014-03-25    NaN       NaN  Funcionario   Acessorios     Nao   \n",
       "1     2014-03-25    NaN       NaN        Aluno   Acessorios     Sim   \n",
       "2     2014-03-25    NaN       NaN  Funcionario  Impressoras     Nao   \n",
       "3     2014-03-25    NaN       NaN  Funcionario  Impressoras     Sim   \n",
       "4     2014-03-25    NaN       NaN       Outros  Impressoras     Sim   \n",
       "...          ...    ...       ...          ...          ...     ...   \n",
       "9937  2018-07-04  16:17       NaN  Funcionario   Acessorios     Nao   \n",
       "9938  2018-07-05  12:43  R$ 20,00  Funcionario   Acessorios     Sim   \n",
       "9939  2018-07-05  14:34  R$ 10,00  Funcionario   Acessorios     Sim   \n",
       "9940  2018-07-05  14:47       NaN       Outros   Acessorios     Nao   \n",
       "9941  2018-07-05  15:18       NaN       Outros   Acessorios     Nao   \n",
       "\n",
       "         genero   faixa_etaria  \n",
       "0     Masculino  Entre 30 e 60  \n",
       "1      Feminino  Entre 18 e 30  \n",
       "2     Masculino  Entre 30 e 60  \n",
       "3     Masculino  Entre 30 e 60  \n",
       "4     Masculino  Entre 30 e 60  \n",
       "...         ...            ...  \n",
       "9937  Masculino  Entre 18 e 30  \n",
       "9938  Masculino  Entre 18 e 30  \n",
       "9939  Masculino  Entre 18 e 30  \n",
       "9940  Masculino  Entre 30 e 60  \n",
       "9941   Feminino    Maior de 60  \n",
       "\n",
       "[9942 rows x 8 columns]"
      ],
      "text/html": "<div>\n<style scoped>\n    .dataframe tbody tr th:only-of-type {\n        vertical-align: middle;\n    }\n\n    .dataframe tbody tr th {\n        vertical-align: top;\n    }\n\n    .dataframe thead th {\n        text-align: right;\n    }\n</style>\n<table border=\"1\" class=\"dataframe\">\n  <thead>\n    <tr style=\"text-align: right;\">\n      <th></th>\n      <th>data</th>\n      <th>hora</th>\n      <th>valor</th>\n      <th>funcao</th>\n      <th>categoria</th>\n      <th>comprou</th>\n      <th>genero</th>\n      <th>faixa_etaria</th>\n    </tr>\n  </thead>\n  <tbody>\n    <tr>\n      <th>0</th>\n      <td>2014-03-25</td>\n      <td>NaN</td>\n      <td>NaN</td>\n      <td>Funcionario</td>\n      <td>Acessorios</td>\n      <td>Nao</td>\n      <td>Masculino</td>\n      <td>Entre 30 e 60</td>\n    </tr>\n    <tr>\n      <th>1</th>\n      <td>2014-03-25</td>\n      <td>NaN</td>\n      <td>NaN</td>\n      <td>Aluno</td>\n      <td>Acessorios</td>\n      <td>Sim</td>\n      <td>Feminino</td>\n      <td>Entre 18 e 30</td>\n    </tr>\n    <tr>\n      <th>2</th>\n      <td>2014-03-25</td>\n      <td>NaN</td>\n      <td>NaN</td>\n      <td>Funcionario</td>\n      <td>Impressoras</td>\n      <td>Nao</td>\n      <td>Masculino</td>\n      <td>Entre 30 e 60</td>\n    </tr>\n    <tr>\n      <th>3</th>\n      <td>2014-03-25</td>\n      <td>NaN</td>\n      <td>NaN</td>\n      <td>Funcionario</td>\n      <td>Impressoras</td>\n      <td>Sim</td>\n      <td>Masculino</td>\n      <td>Entre 30 e 60</td>\n    </tr>\n    <tr>\n      <th>4</th>\n      <td>2014-03-25</td>\n      <td>NaN</td>\n      <td>NaN</td>\n      <td>Outros</td>\n      <td>Impressoras</td>\n      <td>Sim</td>\n      <td>Masculino</td>\n      <td>Entre 30 e 60</td>\n    </tr>\n    <tr>\n      <th>...</th>\n      <td>...</td>\n      <td>...</td>\n      <td>...</td>\n      <td>...</td>\n      <td>...</td>\n      <td>...</td>\n      <td>...</td>\n      <td>...</td>\n    </tr>\n    <tr>\n      <th>9937</th>\n      <td>2018-07-04</td>\n      <td>16:17</td>\n      <td>NaN</td>\n      <td>Funcionario</td>\n      <td>Acessorios</td>\n      <td>Nao</td>\n      <td>Masculino</td>\n      <td>Entre 18 e 30</td>\n    </tr>\n    <tr>\n      <th>9938</th>\n      <td>2018-07-05</td>\n      <td>12:43</td>\n      <td>R$ 20,00</td>\n      <td>Funcionario</td>\n      <td>Acessorios</td>\n      <td>Sim</td>\n      <td>Masculino</td>\n      <td>Entre 18 e 30</td>\n    </tr>\n    <tr>\n      <th>9939</th>\n      <td>2018-07-05</td>\n      <td>14:34</td>\n      <td>R$ 10,00</td>\n      <td>Funcionario</td>\n      <td>Acessorios</td>\n      <td>Sim</td>\n      <td>Masculino</td>\n      <td>Entre 18 e 30</td>\n    </tr>\n    <tr>\n      <th>9940</th>\n      <td>2018-07-05</td>\n      <td>14:47</td>\n      <td>NaN</td>\n      <td>Outros</td>\n      <td>Acessorios</td>\n      <td>Nao</td>\n      <td>Masculino</td>\n      <td>Entre 30 e 60</td>\n    </tr>\n    <tr>\n      <th>9941</th>\n      <td>2018-07-05</td>\n      <td>15:18</td>\n      <td>NaN</td>\n      <td>Outros</td>\n      <td>Acessorios</td>\n      <td>Nao</td>\n      <td>Feminino</td>\n      <td>Maior de 60</td>\n    </tr>\n  </tbody>\n</table>\n<p>9942 rows × 8 columns</p>\n</div>"
     },
     "metadata": {},
     "execution_count": 32
    }
   ],
   "source": [
    "# Renomeando colunas\n",
    "df.rename(columns={\"FUNCAO_TRATADA\":\"funcao\",\"CATEGORIA_TRATADA\":\"categoria\",\"SEXO_TRATADO\": \"genero\",\"IDADE_TRATADA\": \"faixa_etaria\",\"COMPROU\":\"comprou\"})"
   ]
  },
  {
   "cell_type": "code",
   "execution_count": 33,
   "metadata": {},
   "outputs": [
    {
     "output_type": "execute_result",
     "data": {
      "text/plain": [
       "(9942, 8)"
      ]
     },
     "metadata": {},
     "execution_count": 33
    }
   ],
   "source": [
    "# Exibindo quantidade de linhas e colunas do dataframe\n",
    "df.shape"
   ]
  },
  {
   "cell_type": "code",
   "execution_count": 34,
   "metadata": {},
   "outputs": [],
   "source": [
    "# Removendo linhas com valores nulos\n",
    "df.dropna(inplace=True)"
   ]
  },
  {
   "cell_type": "code",
   "execution_count": 35,
   "metadata": {},
   "outputs": [
    {
     "output_type": "execute_result",
     "data": {
      "text/plain": [
       "(5223, 8)"
      ]
     },
     "metadata": {},
     "execution_count": 35
    }
   ],
   "source": [
    "# Exibindo quantidade de linhas e colunas do dataframe\n",
    "df.shape"
   ]
  },
  {
   "cell_type": "code",
   "execution_count": 36,
   "metadata": {},
   "outputs": [
    {
     "output_type": "execute_result",
     "data": {
      "text/plain": [
       "           data   hora     valor FUNCAO_TRATADA CATEGORIA_TRATADA COMPROU  \\\n",
       "287  2014-03-31  14:55  R$ 90,00         Outros       Impressoras     Sim   \n",
       "288  2014-03-31  16:16  R$ 36,00    Funcionario        Acessorios     Sim   \n",
       "295  2014-04-01  11:44  R$ 72,00          Aluno        Acessorios     Sim   \n",
       "296  2014-04-01  12:51  R$ 62,00    Funcionario        Acessorios     Sim   \n",
       "297  2014-04-01  12:58  R$ 40,00          Aluno        Acessorios     Sim   \n",
       "\n",
       "    SEXO_TRATADO  IDADE_TRATADA  \n",
       "287     Feminino    Maior de 60  \n",
       "288    Masculino  Entre 18 e 30  \n",
       "295     Feminino  Entre 18 e 30  \n",
       "296    Masculino  Entre 30 e 60  \n",
       "297     Feminino  Entre 18 e 30  "
      ],
      "text/html": "<div>\n<style scoped>\n    .dataframe tbody tr th:only-of-type {\n        vertical-align: middle;\n    }\n\n    .dataframe tbody tr th {\n        vertical-align: top;\n    }\n\n    .dataframe thead th {\n        text-align: right;\n    }\n</style>\n<table border=\"1\" class=\"dataframe\">\n  <thead>\n    <tr style=\"text-align: right;\">\n      <th></th>\n      <th>data</th>\n      <th>hora</th>\n      <th>valor</th>\n      <th>FUNCAO_TRATADA</th>\n      <th>CATEGORIA_TRATADA</th>\n      <th>COMPROU</th>\n      <th>SEXO_TRATADO</th>\n      <th>IDADE_TRATADA</th>\n    </tr>\n  </thead>\n  <tbody>\n    <tr>\n      <th>287</th>\n      <td>2014-03-31</td>\n      <td>14:55</td>\n      <td>R$ 90,00</td>\n      <td>Outros</td>\n      <td>Impressoras</td>\n      <td>Sim</td>\n      <td>Feminino</td>\n      <td>Maior de 60</td>\n    </tr>\n    <tr>\n      <th>288</th>\n      <td>2014-03-31</td>\n      <td>16:16</td>\n      <td>R$ 36,00</td>\n      <td>Funcionario</td>\n      <td>Acessorios</td>\n      <td>Sim</td>\n      <td>Masculino</td>\n      <td>Entre 18 e 30</td>\n    </tr>\n    <tr>\n      <th>295</th>\n      <td>2014-04-01</td>\n      <td>11:44</td>\n      <td>R$ 72,00</td>\n      <td>Aluno</td>\n      <td>Acessorios</td>\n      <td>Sim</td>\n      <td>Feminino</td>\n      <td>Entre 18 e 30</td>\n    </tr>\n    <tr>\n      <th>296</th>\n      <td>2014-04-01</td>\n      <td>12:51</td>\n      <td>R$ 62,00</td>\n      <td>Funcionario</td>\n      <td>Acessorios</td>\n      <td>Sim</td>\n      <td>Masculino</td>\n      <td>Entre 30 e 60</td>\n    </tr>\n    <tr>\n      <th>297</th>\n      <td>2014-04-01</td>\n      <td>12:58</td>\n      <td>R$ 40,00</td>\n      <td>Aluno</td>\n      <td>Acessorios</td>\n      <td>Sim</td>\n      <td>Feminino</td>\n      <td>Entre 18 e 30</td>\n    </tr>\n  </tbody>\n</table>\n</div>"
     },
     "metadata": {},
     "execution_count": 36
    }
   ],
   "source": [
    "# Exibindo as 5 primeiras linhas do daframe\n",
    "df.head()"
   ]
  },
  {
   "cell_type": "code",
   "execution_count": 37,
   "metadata": {},
   "outputs": [
    {
     "output_type": "stream",
     "name": "stdout",
     "text": [
      "['R$ 90,00' 'R$ 36,00' 'R$ 72,00' 'R$ 62,00' 'R$ 40,00' 'R$ 30,00'\n 'R$ 25,00' 'R$ 24,00' 'R$ 20,00' 'R$ 44,00' 'R$ 16,00' 'R$ 230,00'\n 'R$ 45,00' 'R$ 135,00' 'R$ 80,00' 'R$ 28,00' 'R$ 63,00' 'R$ 540,00'\n 'R$ 120,00' 'R$ 150,00' 'R$ 65,00' 'R$ 26,00' 'R$ 8,00' 'R$ 70,00'\n 'R$ 144,00' 'R$ 60,00' 'R$ 173,00 ' 'R$ 280,00' 'R$ 75,00' 'R$ 82,00'\n 'R$ 464,00' 'R$ 10,00' 'R$ 110,00' 'R$ 54,00' 'R$ 55,00' 'R$ 185,00'\n 'R$ 560,00' 'R$ 165,00' 'R$ 48,00' 'R$ 180,00' 'R$ 200,00' 'R$ 119,00'\n 'R$ 100,00' 'R$ 130,00' 'R$ 140,00' 'R$ 279,00' 'R$ 50,00' 'R$ 420,00'\n 'R$ 32,00' 'R$ 590,00' 'R$ 92,00' 'R$ 113,00' 'R$ 96,00' 'R$ 320,00'\n 'R$ 137,00' 'R$ 12,00' 'R$ 145,00' 'R$ 250,00' 'R$ 2.400,00' 'R$ 190,00'\n 'R$ 35,00' 'R$ 299,00' 'R$ 105,00' 'R$ 367,00' 'R$ 295,00' 'R$ 194,00'\n 'R$ 1.724,00' 'R$ 41,00' 'R$ 34,00' 'R$ 680,00' 'R$ 1694,00' 'R$ 470,00'\n 'R$ 107,00' 'R$ 189,00' 'R$ 210,00' 'R$ 380,00' 'R$ 217,00' 'R$ 215,00'\n 'R$ 6,00' 'R$ 110' 'R$ 99,00' 'R$ 19,00' 'R$ 426,00' 'R$ 64,00'\n 'R$ 38,00' 'R$ 58,00' 'R$ 1.822,00' 'R$ 124,00' 'R$ 37,00' 'R$ 29,00'\n 'R$ 39,00' 'R$ 179,00' 'R$ 640,00' 'R$ 42,00' 'R$ 260,00' 'R$ 15,00'\n 'R$ 160,00' 'R$ 175,00' 'R$ 240,00' 'R$ 147,00' 'R$ 153,00' 'R$ 114,00'\n '25,00' 'R$ 188,00' 'R$ 849,00' 'R$ 300,00' 'R$ 405,00' 'R$ 310,00'\n 'R$ 129,00' 'R$ 1690,00' 'R$ 95,00' 'R$175,00' 'R$ 2.912,75' 'R$ 1100,00'\n 'R$ 85,00' 'R$ 76,00' 'R$ 2.221,00' 'R$ 1.125,00' 'R$ 47,00' 'R$ 2486,00'\n 'R$ 359,00' 'R$ 4.182,00' 'R$ 2.039,00' 'R$ 186,00' 'R$ 128,00'\n 'R$ 520,00' 'R$ 165' 'R$ 2,00' 'R$ 143,00' 'R$ 1190,00' 'R$ 78,00'\n 'R$ 136,00' '20,00' 'R$ 1090,00' 'R$ 1245,00' 'R$ 4.800,00' 'R$ 170,00'\n 'R$ 1.900,00' 'R$ 56,85' 'R$ 2.970,00' 'R$ 118,00' 'R$ 98,00' 'R$ 164,00'\n 'R$ 10,00 ' 'R$ 298,00' 'R$ 255,00' 'R$ 68,00' 'R$ 525,00' 'R$ 970,00'\n 'R$ 449,00' 'R$ 23,50' 'R$ 650,00' 'R$ 218,00' 'R$ 101,00' 'R$ 52,00'\n 'R$ 5.780,00' 'R$ 1.660,00' 'R$v 8,00' 'R$ 999,00' 'R$ 138,00'\n 'R$ 125,00' 'R$ 480,00' 'R$ 102,00' 'R$ 57,00' 'R$ 142,00' 'R$ 304,00'\n 'R$ 86,00' 'R$ 109,00' 'R$ 685,00' 'R$ 0,00' 'R$ 7.371,00' 'R$ 1.700,00'\n 'R$ 123,00' 'R$ 12.738,38' 'R$ 1.400,00' 'R$ 66,00' 'R$ 1.970,00'\n 'R$ 340,00' 'R$ 133,00' 'R$ 2.070,00' 'R$ 1.832,00' 'R$ 689,00'\n 'R$ 865,00' 'R$ 1.890,00' 'R$ 360,00' 'R$ 149,00' 'R$ 94,00' 'R$ 398,00'\n 'R$ 845,00' 'R$ 59,00' 'R$ 5,00' 'R$ 16,90' 'R$ 89,00' 'R$ 159,00'\n 'R$ 18,00' 'R$ 390,00' 'R$ 69,00' 'R$ 115,00' 'R$ 49,00' 'R$ 23,00'\n 'R$ 152,00' 'R$ 330,30' 'R$ 9,00' 'R$ 205,00' 'R$ 322,00' 'R$ 339,00'\n 'R$ 219,00' 'R$ 108,00' 'R$ 530,00' 'R$ 46,00' 'R$ 427,00' 'R$ 389,00'\n 'R$ 79,00' 'R$ 169,00' 'R$ 88,00' 'R$ 349,00' 'R$ 437,00' 'R$ 2.200,00'\n 'R$ 399,00' 'R$ 77,00' 'R$ 208,00' 'R$ 229,00' 'R$ 148,00' 'R$ 111,00'\n 'R$ 237,00' 'R$ 409,00' 'R$ 27,00' 'R$ 248,00' 'R$ 220,00' 'R$ 388,00'\n 'R$ 288,00' 'R$ 198,00' 'R$ 400,00' 'R$ 370,00' 'R$ 139,00' 'R$ 104,00'\n 'R$ 27,50' 'R$ 199,00' 'R$177,00' 'R$ 2190,00' 'R$ 249,00' 'R$ 141,00'\n 'R$ 268,00' 'R$39,00' 'R$ 149,0' 'R$ 311,00' 'R$ 289,00' 'R$ 79'\n 'R$ 56,00' 'R$ 244,00' 'R$ 273,00' 'R$ 74,00' '68,00' 'R$ 158,00'\n 'R$ 688,00' 'R$ 84,00' 'R$ 17,00' 'R$ 22,00' 'R$ 168,00' 'R$ 228,00'\n 'R$5,00' 'R$ 178,00' 'R$ 265,00' 'R4 35,00' 'R$ 187,00' 'R4 99,00'\n 'R$ 87,00' 'R$100,00' 'R$ 335,00' 'R$ 134,00' 'R$ 166,00' 'R4 59,00'\n 'R$ 798,00' 'R4 39,00' 'R$ 117,00' 'R$ 3558,00' 'R4 79,00' 'R4 29,00'\n 'R$ 1655,00' 'R$ 197,00' 'R$ 3,00' 'R$ 254,00' 'R$ 318,00' 'R4 48,00'\n 'R4 49,00' 'R$ 29' 'R4 10,00' '$ 29,00' 'R$ 256,00' 'R$ 196,00'\n 'R$ 155,00' 'R$ 177,00' 'R$ 126,00' 'R$ 396,00' 'R$ 195,00' 'R$ 127,00'\n 'R$ 1,00' 'R$ 157,00' 'R$ 278,00' 'R$ 9,50' 'R$ 33,00' '40,00'\n 'R$ 122,00' 'R$ 259,00' 'R$19,00' 'R$ 257,00' 'R$25,00' 'R$ 225,00' 'R$ '\n 'R$ 650,90' 'R$ 348,00' 'R$ 163,00' 'R$ 600,00' 'R$ 317,00' 'R$ 4,00'\n 'R$ 207,00' 'R$ 580,00' 'R$79,00' 'R$ 989,99' 'R$ 9,90']\n"
     ]
    }
   ],
   "source": [
    "# Exibindo valores unicos para a coluna 'valor'\n",
    "print(df['valor'].unique())"
   ]
  },
  {
   "cell_type": "code",
   "execution_count": 38,
   "metadata": {},
   "outputs": [],
   "source": [
    "# Fazendo slice na coluna valor para retirar 'R$ '\n",
    "df['valor'] = df['valor'].str[3:]"
   ]
  },
  {
   "cell_type": "code",
   "execution_count": 39,
   "metadata": {},
   "outputs": [
    {
     "output_type": "execute_result",
     "data": {
      "text/plain": [
       "array(['90,00', '36,00', '72,00', '62,00', '40,00', '30,00', '25,00',\n",
       "       '24,00', '20,00', '44,00', '16,00', '230,00', '45,00', '135,00',\n",
       "       '80,00', '28,00', '63,00', '540,00', '120,00', '150,00', '65,00',\n",
       "       '26,00', '8,00', '70,00', '144,00', '60,00', '173,00 ', '280,00',\n",
       "       '75,00', '82,00', '464,00', '10,00', '110,00', '54,00', '55,00',\n",
       "       '185,00', '560,00', '165,00', '48,00', '180,00', '200,00',\n",
       "       '119,00', '100,00', '130,00', '140,00', '279,00', '50,00',\n",
       "       '420,00', '32,00', '590,00', '92,00', '113,00', '96,00', '320,00',\n",
       "       '137,00', '12,00', '145,00', '250,00', '2.400,00', '190,00',\n",
       "       '35,00', '299,00', '105,00', '367,00', '295,00', '194,00',\n",
       "       '1.724,00', '41,00', '34,00', '680,00', '1694,00', '470,00',\n",
       "       '107,00', '189,00', '210,00', '380,00', '217,00', '215,00', '6,00',\n",
       "       '110', '99,00', '19,00', '426,00', '64,00', '38,00', '58,00',\n",
       "       '1.822,00', '124,00', '37,00', '29,00', '39,00', '179,00',\n",
       "       '640,00', '42,00', '260,00', '15,00', '160,00', '175,00', '240,00',\n",
       "       '147,00', '153,00', '114,00', '00', '188,00', '849,00', '300,00',\n",
       "       '405,00', '310,00', '129,00', '1690,00', '95,00', '2.912,75',\n",
       "       '1100,00', '85,00', '76,00', '2.221,00', '1.125,00', '47,00',\n",
       "       '2486,00', '359,00', '4.182,00', '2.039,00', '186,00', '128,00',\n",
       "       '520,00', '165', '2,00', '143,00', '1190,00', '78,00', '136,00',\n",
       "       '1090,00', '1245,00', '4.800,00', '170,00', '1.900,00', '56,85',\n",
       "       '2.970,00', '118,00', '98,00', '164,00', '10,00 ', '298,00',\n",
       "       '255,00', '68,00', '525,00', '970,00', '449,00', '23,50', '650,00',\n",
       "       '218,00', '101,00', '52,00', '5.780,00', '1.660,00', ' 8,00',\n",
       "       '999,00', '138,00', '125,00', '480,00', '102,00', '57,00',\n",
       "       '142,00', '304,00', '86,00', '109,00', '685,00', '0,00',\n",
       "       '7.371,00', '1.700,00', '123,00', '12.738,38', '1.400,00', '66,00',\n",
       "       '1.970,00', '340,00', '133,00', '2.070,00', '1.832,00', '689,00',\n",
       "       '865,00', '1.890,00', '360,00', '149,00', '94,00', '398,00',\n",
       "       '845,00', '59,00', '5,00', '16,90', '89,00', '159,00', '18,00',\n",
       "       '390,00', '69,00', '115,00', '49,00', '23,00', '152,00', '330,30',\n",
       "       '9,00', '205,00', '322,00', '339,00', '219,00', '108,00', '530,00',\n",
       "       '46,00', '427,00', '389,00', '79,00', '169,00', '88,00', '349,00',\n",
       "       '437,00', '2.200,00', '399,00', '77,00', '208,00', '229,00',\n",
       "       '148,00', '111,00', '237,00', '409,00', '27,00', '248,00',\n",
       "       '220,00', '388,00', '288,00', '198,00', '400,00', '370,00',\n",
       "       '139,00', '104,00', '27,50', '199,00', '2190,00', '249,00',\n",
       "       '141,00', '268,00', '149,0', '311,00', '289,00', '79', '56,00',\n",
       "       '244,00', '273,00', '74,00', '158,00', '688,00', '84,00', '17,00',\n",
       "       '22,00', '168,00', '228,00', ',00', '178,00', '265,00', '187,00',\n",
       "       '87,00', '00,00', '335,00', '134,00', '166,00', '798,00', '117,00',\n",
       "       '3558,00', '1655,00', '197,00', '3,00', '254,00', '318,00', '29',\n",
       "       '256,00', '196,00', '155,00', '177,00', '126,00', '396,00',\n",
       "       '195,00', '127,00', '1,00', '157,00', '278,00', '9,50', '33,00',\n",
       "       '122,00', '259,00', '257,00', '225,00', '', '650,90', '348,00',\n",
       "       '163,00', '600,00', '317,00', '4,00', '207,00', '580,00', '989,99',\n",
       "       '9,90'], dtype=object)"
      ]
     },
     "metadata": {},
     "execution_count": 39
    }
   ],
   "source": [
    "# Exibindo valores unicos para coluna 'valor'\n",
    "df['valor'].unique()"
   ]
  },
  {
   "cell_type": "code",
   "execution_count": 40,
   "metadata": {},
   "outputs": [],
   "source": [
    "# Transformando a coluna 'valor' em string\n",
    "df['valor'] = df['valor'].astype(str)"
   ]
  },
  {
   "cell_type": "code",
   "execution_count": 41,
   "metadata": {},
   "outputs": [
    {
     "output_type": "stream",
     "name": "stderr",
     "text": [
      "<ipython-input-41-20ded5c8329c>:2: FutureWarning: The default value of regex will change from True to False in a future version. In addition, single character regular expressions will*not* be treated as literal strings when regex=True.\n  df['valor'] = df['valor'].str.replace('.', ',')\n"
     ]
    }
   ],
   "source": [
    "# Substituindo o separador de centavos de , para .\n",
    "df['valor'] = df['valor'].str.replace('.', ',')"
   ]
  },
  {
   "cell_type": "code",
   "execution_count": 42,
   "metadata": {},
   "outputs": [],
   "source": [
    "# Fazendo slice para retirar os centavos do campo 'valor'\n",
    "df['valor'] = df['valor'].str[:-3]"
   ]
  },
  {
   "cell_type": "code",
   "execution_count": 43,
   "metadata": {},
   "outputs": [],
   "source": [
    "# Removendo espações vazios do campo 'valor'\n",
    "df['valor'] = df['valor'].str.strip() "
   ]
  },
  {
   "cell_type": "code",
   "execution_count": 44,
   "metadata": {},
   "outputs": [
    {
     "output_type": "execute_result",
     "data": {
      "text/plain": [
       "            data   hora valor FUNCAO_TRATADA CATEGORIA_TRATADA COMPROU  \\\n",
       "968   2014-06-09  11:20                Aluno       Impressoras     Sim   \n",
       "1335  2014-08-04   15:6          Funcionario        Acessorios     Sim   \n",
       "1680  2014-09-02  17:24                Aluno       Impressoras     Sim   \n",
       "1810  2014-09-12  11:42          Funcionario        Acessorios     Sim   \n",
       "1978  2014-09-26  11:38                Aluno        Acessorios     Sim   \n",
       "4566  2015-09-03   18:8            Professor        Acessorios     Sim   \n",
       "4678  2015-09-18  13:20          Funcionario        Acessorios     Sim   \n",
       "5054  2015-11-03  15:37                Aluno        Acessorios     Sim   \n",
       "6065  2016-05-09  14:30                Aluno        Acessorios     Sim   \n",
       "6649  2016-08-09  13:39          Funcionario        Acessorios     Sim   \n",
       "7512  2017-01-16   16:1                Aluno        Acessorios     Sim   \n",
       "\n",
       "     SEXO_TRATADO  IDADE_TRATADA  \n",
       "968     Masculino  Entre 30 e 60  \n",
       "1335    Masculino  Entre 30 e 60  \n",
       "1680     Feminino  Entre 18 e 30  \n",
       "1810    Masculino  Entre 30 e 60  \n",
       "1978    Masculino  Entre 18 e 30  \n",
       "4566     Feminino  Entre 30 e 60  \n",
       "4678    Masculino  Entre 30 e 60  \n",
       "5054     Feminino  Entre 30 e 60  \n",
       "6065    Masculino  Entre 18 e 30  \n",
       "6649    Masculino  Entre 30 e 60  \n",
       "7512    Masculino  Entre 18 e 30  "
      ],
      "text/html": "<div>\n<style scoped>\n    .dataframe tbody tr th:only-of-type {\n        vertical-align: middle;\n    }\n\n    .dataframe tbody tr th {\n        vertical-align: top;\n    }\n\n    .dataframe thead th {\n        text-align: right;\n    }\n</style>\n<table border=\"1\" class=\"dataframe\">\n  <thead>\n    <tr style=\"text-align: right;\">\n      <th></th>\n      <th>data</th>\n      <th>hora</th>\n      <th>valor</th>\n      <th>FUNCAO_TRATADA</th>\n      <th>CATEGORIA_TRATADA</th>\n      <th>COMPROU</th>\n      <th>SEXO_TRATADO</th>\n      <th>IDADE_TRATADA</th>\n    </tr>\n  </thead>\n  <tbody>\n    <tr>\n      <th>968</th>\n      <td>2014-06-09</td>\n      <td>11:20</td>\n      <td></td>\n      <td>Aluno</td>\n      <td>Impressoras</td>\n      <td>Sim</td>\n      <td>Masculino</td>\n      <td>Entre 30 e 60</td>\n    </tr>\n    <tr>\n      <th>1335</th>\n      <td>2014-08-04</td>\n      <td>15:6</td>\n      <td></td>\n      <td>Funcionario</td>\n      <td>Acessorios</td>\n      <td>Sim</td>\n      <td>Masculino</td>\n      <td>Entre 30 e 60</td>\n    </tr>\n    <tr>\n      <th>1680</th>\n      <td>2014-09-02</td>\n      <td>17:24</td>\n      <td></td>\n      <td>Aluno</td>\n      <td>Impressoras</td>\n      <td>Sim</td>\n      <td>Feminino</td>\n      <td>Entre 18 e 30</td>\n    </tr>\n    <tr>\n      <th>1810</th>\n      <td>2014-09-12</td>\n      <td>11:42</td>\n      <td></td>\n      <td>Funcionario</td>\n      <td>Acessorios</td>\n      <td>Sim</td>\n      <td>Masculino</td>\n      <td>Entre 30 e 60</td>\n    </tr>\n    <tr>\n      <th>1978</th>\n      <td>2014-09-26</td>\n      <td>11:38</td>\n      <td></td>\n      <td>Aluno</td>\n      <td>Acessorios</td>\n      <td>Sim</td>\n      <td>Masculino</td>\n      <td>Entre 18 e 30</td>\n    </tr>\n    <tr>\n      <th>4566</th>\n      <td>2015-09-03</td>\n      <td>18:8</td>\n      <td></td>\n      <td>Professor</td>\n      <td>Acessorios</td>\n      <td>Sim</td>\n      <td>Feminino</td>\n      <td>Entre 30 e 60</td>\n    </tr>\n    <tr>\n      <th>4678</th>\n      <td>2015-09-18</td>\n      <td>13:20</td>\n      <td></td>\n      <td>Funcionario</td>\n      <td>Acessorios</td>\n      <td>Sim</td>\n      <td>Masculino</td>\n      <td>Entre 30 e 60</td>\n    </tr>\n    <tr>\n      <th>5054</th>\n      <td>2015-11-03</td>\n      <td>15:37</td>\n      <td></td>\n      <td>Aluno</td>\n      <td>Acessorios</td>\n      <td>Sim</td>\n      <td>Feminino</td>\n      <td>Entre 30 e 60</td>\n    </tr>\n    <tr>\n      <th>6065</th>\n      <td>2016-05-09</td>\n      <td>14:30</td>\n      <td></td>\n      <td>Aluno</td>\n      <td>Acessorios</td>\n      <td>Sim</td>\n      <td>Masculino</td>\n      <td>Entre 18 e 30</td>\n    </tr>\n    <tr>\n      <th>6649</th>\n      <td>2016-08-09</td>\n      <td>13:39</td>\n      <td></td>\n      <td>Funcionario</td>\n      <td>Acessorios</td>\n      <td>Sim</td>\n      <td>Masculino</td>\n      <td>Entre 30 e 60</td>\n    </tr>\n    <tr>\n      <th>7512</th>\n      <td>2017-01-16</td>\n      <td>16:1</td>\n      <td></td>\n      <td>Aluno</td>\n      <td>Acessorios</td>\n      <td>Sim</td>\n      <td>Masculino</td>\n      <td>Entre 18 e 30</td>\n    </tr>\n  </tbody>\n</table>\n</div>"
     },
     "metadata": {},
     "execution_count": 44
    }
   ],
   "source": [
    "# Exibindo linhas com o campo 'valor' que nao tenha caracter algum\n",
    "df[df['valor'].map(len) < 1]"
   ]
  },
  {
   "cell_type": "code",
   "execution_count": 45,
   "metadata": {},
   "outputs": [],
   "source": [
    "# Removendo linhas com o campo 'valor' vazio\n",
    "df = df.drop(df[df.valor == \"\"].index)"
   ]
  },
  {
   "cell_type": "code",
   "execution_count": 46,
   "metadata": {},
   "outputs": [
    {
     "output_type": "execute_result",
     "data": {
      "text/plain": [
       "Empty DataFrame\n",
       "Columns: [data, hora, valor, FUNCAO_TRATADA, CATEGORIA_TRATADA, COMPROU, SEXO_TRATADO, IDADE_TRATADA]\n",
       "Index: []"
      ],
      "text/html": "<div>\n<style scoped>\n    .dataframe tbody tr th:only-of-type {\n        vertical-align: middle;\n    }\n\n    .dataframe tbody tr th {\n        vertical-align: top;\n    }\n\n    .dataframe thead th {\n        text-align: right;\n    }\n</style>\n<table border=\"1\" class=\"dataframe\">\n  <thead>\n    <tr style=\"text-align: right;\">\n      <th></th>\n      <th>data</th>\n      <th>hora</th>\n      <th>valor</th>\n      <th>FUNCAO_TRATADA</th>\n      <th>CATEGORIA_TRATADA</th>\n      <th>COMPROU</th>\n      <th>SEXO_TRATADO</th>\n      <th>IDADE_TRATADA</th>\n    </tr>\n  </thead>\n  <tbody>\n  </tbody>\n</table>\n</div>"
     },
     "metadata": {},
     "execution_count": 46
    }
   ],
   "source": [
    "# Exibindo linhas com o campo 'valor' que nao tenha caracter algum\n",
    "df[df['valor'].map(len) < 1]"
   ]
  },
  {
   "cell_type": "code",
   "execution_count": 47,
   "metadata": {},
   "outputs": [],
   "source": [
    "# Substituindo , por . no campo 'valor'\n",
    "df['valor'] = df['valor'].apply(lambda x: float(x.replace(\".\",\"\").replace(\",\",\".\")))"
   ]
  },
  {
   "cell_type": "code",
   "execution_count": 48,
   "metadata": {},
   "outputs": [
    {
     "output_type": "execute_result",
     "data": {
      "text/plain": [
       "           data   hora  valor FUNCAO_TRATADA CATEGORIA_TRATADA COMPROU  \\\n",
       "287  2014-03-31  14:55   90.0         Outros       Impressoras     Sim   \n",
       "288  2014-03-31  16:16   36.0    Funcionario        Acessorios     Sim   \n",
       "295  2014-04-01  11:44   72.0          Aluno        Acessorios     Sim   \n",
       "296  2014-04-01  12:51   62.0    Funcionario        Acessorios     Sim   \n",
       "297  2014-04-01  12:58   40.0          Aluno        Acessorios     Sim   \n",
       "301  2014-04-01  14:23   30.0    Funcionario        Acessorios     Sim   \n",
       "303  2014-04-01  17:32   25.0    Funcionario        Acessorios     Sim   \n",
       "309  2014-04-02   9:42   40.0         Outros        Acessorios     Sim   \n",
       "310  2014-04-02   9:51   24.0          Aluno        Acessorios     Sim   \n",
       "316  2014-04-02  13:33   36.0      Professor        Acessorios     Sim   \n",
       "\n",
       "    SEXO_TRATADO  IDADE_TRATADA  \n",
       "287     Feminino    Maior de 60  \n",
       "288    Masculino  Entre 18 e 30  \n",
       "295     Feminino  Entre 18 e 30  \n",
       "296    Masculino  Entre 30 e 60  \n",
       "297     Feminino  Entre 18 e 30  \n",
       "301     Feminino  Entre 30 e 60  \n",
       "303     Feminino  Entre 30 e 60  \n",
       "309    Masculino  Entre 30 e 60  \n",
       "310     Feminino  Entre 18 e 30  \n",
       "316     Feminino  Entre 30 e 60  "
      ],
      "text/html": "<div>\n<style scoped>\n    .dataframe tbody tr th:only-of-type {\n        vertical-align: middle;\n    }\n\n    .dataframe tbody tr th {\n        vertical-align: top;\n    }\n\n    .dataframe thead th {\n        text-align: right;\n    }\n</style>\n<table border=\"1\" class=\"dataframe\">\n  <thead>\n    <tr style=\"text-align: right;\">\n      <th></th>\n      <th>data</th>\n      <th>hora</th>\n      <th>valor</th>\n      <th>FUNCAO_TRATADA</th>\n      <th>CATEGORIA_TRATADA</th>\n      <th>COMPROU</th>\n      <th>SEXO_TRATADO</th>\n      <th>IDADE_TRATADA</th>\n    </tr>\n  </thead>\n  <tbody>\n    <tr>\n      <th>287</th>\n      <td>2014-03-31</td>\n      <td>14:55</td>\n      <td>90.0</td>\n      <td>Outros</td>\n      <td>Impressoras</td>\n      <td>Sim</td>\n      <td>Feminino</td>\n      <td>Maior de 60</td>\n    </tr>\n    <tr>\n      <th>288</th>\n      <td>2014-03-31</td>\n      <td>16:16</td>\n      <td>36.0</td>\n      <td>Funcionario</td>\n      <td>Acessorios</td>\n      <td>Sim</td>\n      <td>Masculino</td>\n      <td>Entre 18 e 30</td>\n    </tr>\n    <tr>\n      <th>295</th>\n      <td>2014-04-01</td>\n      <td>11:44</td>\n      <td>72.0</td>\n      <td>Aluno</td>\n      <td>Acessorios</td>\n      <td>Sim</td>\n      <td>Feminino</td>\n      <td>Entre 18 e 30</td>\n    </tr>\n    <tr>\n      <th>296</th>\n      <td>2014-04-01</td>\n      <td>12:51</td>\n      <td>62.0</td>\n      <td>Funcionario</td>\n      <td>Acessorios</td>\n      <td>Sim</td>\n      <td>Masculino</td>\n      <td>Entre 30 e 60</td>\n    </tr>\n    <tr>\n      <th>297</th>\n      <td>2014-04-01</td>\n      <td>12:58</td>\n      <td>40.0</td>\n      <td>Aluno</td>\n      <td>Acessorios</td>\n      <td>Sim</td>\n      <td>Feminino</td>\n      <td>Entre 18 e 30</td>\n    </tr>\n    <tr>\n      <th>301</th>\n      <td>2014-04-01</td>\n      <td>14:23</td>\n      <td>30.0</td>\n      <td>Funcionario</td>\n      <td>Acessorios</td>\n      <td>Sim</td>\n      <td>Feminino</td>\n      <td>Entre 30 e 60</td>\n    </tr>\n    <tr>\n      <th>303</th>\n      <td>2014-04-01</td>\n      <td>17:32</td>\n      <td>25.0</td>\n      <td>Funcionario</td>\n      <td>Acessorios</td>\n      <td>Sim</td>\n      <td>Feminino</td>\n      <td>Entre 30 e 60</td>\n    </tr>\n    <tr>\n      <th>309</th>\n      <td>2014-04-02</td>\n      <td>9:42</td>\n      <td>40.0</td>\n      <td>Outros</td>\n      <td>Acessorios</td>\n      <td>Sim</td>\n      <td>Masculino</td>\n      <td>Entre 30 e 60</td>\n    </tr>\n    <tr>\n      <th>310</th>\n      <td>2014-04-02</td>\n      <td>9:51</td>\n      <td>24.0</td>\n      <td>Aluno</td>\n      <td>Acessorios</td>\n      <td>Sim</td>\n      <td>Feminino</td>\n      <td>Entre 18 e 30</td>\n    </tr>\n    <tr>\n      <th>316</th>\n      <td>2014-04-02</td>\n      <td>13:33</td>\n      <td>36.0</td>\n      <td>Professor</td>\n      <td>Acessorios</td>\n      <td>Sim</td>\n      <td>Feminino</td>\n      <td>Entre 30 e 60</td>\n    </tr>\n  </tbody>\n</table>\n</div>"
     },
     "metadata": {},
     "execution_count": 48
    }
   ],
   "source": [
    "# Exibindo as 10 primeiras linhas do daframe\n",
    "df.head(10)"
   ]
  },
  {
   "cell_type": "code",
   "execution_count": 49,
   "metadata": {},
   "outputs": [
    {
     "output_type": "execute_result",
     "data": {
      "text/plain": [
       "count    5212.000000\n",
       "mean       63.526613\n",
       "std       110.169123\n",
       "min         0.000000\n",
       "25%        25.000000\n",
       "50%        39.000000\n",
       "75%        69.000000\n",
       "max      3558.000000\n",
       "Name: valor, dtype: float64"
      ]
     },
     "metadata": {},
     "execution_count": 49
    }
   ],
   "source": [
    "# Exibindo resumo estatistico do campo 'valor'\n",
    "df['valor'].describe()"
   ]
  },
  {
   "cell_type": "code",
   "execution_count": 50,
   "metadata": {},
   "outputs": [
    {
     "output_type": "stream",
     "name": "stdout",
     "text": [
      "O total de vendas foi: R$ 331100.706\n"
     ]
    }
   ],
   "source": [
    "# Exibindo a soma de todos os valores do campo 'valor'\n",
    "print('O total de vendas foi: R$',  df['valor'].sum())"
   ]
  },
  {
   "cell_type": "code",
   "execution_count": 51,
   "metadata": {},
   "outputs": [
    {
     "output_type": "stream",
     "name": "stdout",
     "text": [
      "O item mais caro foi vendido por: R$ 3558.0\n"
     ]
    }
   ],
   "source": [
    "# Exibindo o maior valor vendido\n",
    "print('O item mais caro foi vendido por: R$',  df['valor'].max())"
   ]
  },
  {
   "cell_type": "code",
   "execution_count": 52,
   "metadata": {},
   "outputs": [
    {
     "output_type": "stream",
     "name": "stdout",
     "text": [
      "O item mais barato foi vendido por: R$ 0.0\n"
     ]
    }
   ],
   "source": [
    "# Exibindo o menor valor vendido\n",
    "print('O item mais barato foi vendido por: R$',  df['valor'].min())"
   ]
  },
  {
   "cell_type": "code",
   "execution_count": 53,
   "metadata": {},
   "outputs": [
    {
     "output_type": "execute_result",
     "data": {
      "text/plain": [
       "63.52661281657713"
      ]
     },
     "metadata": {},
     "execution_count": 53
    }
   ],
   "source": [
    "# Exibindo a media dos valores\n",
    "df['valor'].mean()"
   ]
  },
  {
   "cell_type": "code",
   "execution_count": 54,
   "metadata": {},
   "outputs": [
    {
     "output_type": "execute_result",
     "data": {
      "text/plain": [
       "39.0"
      ]
     },
     "metadata": {},
     "execution_count": 54
    }
   ],
   "source": [
    "# Exibindo a mediana dos valores\n",
    "df['valor'].median()"
   ]
  },
  {
   "cell_type": "code",
   "execution_count": 55,
   "metadata": {},
   "outputs": [],
   "source": [
    "# Exportando o dataframe o arquivo 'data/data_tratado.csv'\n",
    "df.to_csv(\"data/data_tratado.csv\")"
   ]
  },
  {
   "cell_type": "code",
   "execution_count": 56,
   "metadata": {},
   "outputs": [],
   "source": [
    "# Funcao para percorrer o campo valor e retirar todas as virgulas\n",
    "#def trata_valor(s):\n",
    "#    s = s.split(\",\")\n",
    "#    return s"
   ]
  },
  {
   "cell_type": "code",
   "execution_count": 57,
   "metadata": {},
   "outputs": [],
   "source": [
    "# Criando nova coluna VALOR_TRATADO com dados melhorados\n",
    "#df['VALOR_TRATADO'] = df['valor'].apply(trata_valor)"
   ]
  },
  {
   "cell_type": "code",
   "execution_count": 58,
   "metadata": {},
   "outputs": [],
   "source": [
    "#df['VALOR_TRATADO'] = df['VALOR_TRATADO'].str.replace(',', '')"
   ]
  },
  {
   "cell_type": "code",
   "execution_count": 59,
   "metadata": {},
   "outputs": [],
   "source": [
    "#df['VALOR_TRATADO'].median(skipna=True)"
   ]
  },
  {
   "cell_type": "code",
   "execution_count": 60,
   "metadata": {},
   "outputs": [],
   "source": [
    "#df.head()"
   ]
  },
  {
   "cell_type": "code",
   "execution_count": 61,
   "metadata": {},
   "outputs": [],
   "source": [
    "#df['valor'] = df['valor'].astype(float)"
   ]
  },
  {
   "cell_type": "code",
   "execution_count": 62,
   "metadata": {},
   "outputs": [],
   "source": [
    "#df.tail()"
   ]
  },
  {
   "cell_type": "code",
   "execution_count": 63,
   "metadata": {},
   "outputs": [],
   "source": [
    "#df['valor'] = df['valor'].apply(lambda x: float(x.replace(\".\",\"\").replace(\",\",\".\")))"
   ]
  }
 ]
}